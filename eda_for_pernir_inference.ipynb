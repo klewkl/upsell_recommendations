{
 "cells": [
  {
   "cell_type": "code",
   "execution_count": 1,
   "id": "04a86594",
   "metadata": {},
   "outputs": [],
   "source": [
    "# !pip install similaripy==0.1.2 "
   ]
  },
  {
   "cell_type": "code",
   "execution_count": 2,
   "id": "b4421535",
   "metadata": {},
   "outputs": [],
   "source": [
    "# !pip install cython==0.29.30"
   ]
  },
  {
   "cell_type": "code",
   "execution_count": 32,
   "id": "b434e728",
   "metadata": {},
   "outputs": [],
   "source": [
    "import pandas as pd\n",
    "import random\n",
    "import numpy as np\n",
    "from scipy import sparse\n",
    "import similaripy as sim\n",
    "import pickle\n",
    "from datetime import datetime"
   ]
  },
  {
   "cell_type": "code",
   "execution_count": 245,
   "id": "a324dc53",
   "metadata": {},
   "outputs": [],
   "source": [
    "import sys\n",
    "sys.path.append('./models/')\n",
    "import pernir_preproc"
   ]
  },
  {
   "cell_type": "markdown",
   "id": "4e6b7781",
   "metadata": {},
   "source": [
    "### 0. Set Hyper Params"
   ]
  },
  {
   "cell_type": "code",
   "execution_count": 10,
   "id": "9f599a2d",
   "metadata": {},
   "outputs": [],
   "source": [
    "min_basket_per_user = 4\n",
    "min_item_per_basket = 4\n",
    "sample_size = 10000\n",
    "seed_len = 3\n",
    "mask_percentage = 0.2"
   ]
  },
  {
   "cell_type": "markdown",
   "id": "31acf9cc",
   "metadata": {},
   "source": [
    "## 1. instaCart"
   ]
  },
  {
   "cell_type": "code",
   "execution_count": 11,
   "id": "206751c4",
   "metadata": {},
   "outputs": [],
   "source": [
    "prior_orders_file_path = '../data/instacart/order_products__prior.csv'\n",
    "train_orders_file_path = '../data/instacart/order_products__train.csv'\n",
    "orders_file_path = '../data/instacart/orders.csv'"
   ]
  },
  {
   "cell_type": "code",
   "execution_count": 12,
   "id": "e1028cf9",
   "metadata": {},
   "outputs": [],
   "source": [
    "all_orders = pernir_preproc.read_and_merge_orders(prior_orders_file_path, train_orders_file_path, orders_file_path)"
   ]
  },
  {
   "cell_type": "code",
   "execution_count": 30,
   "id": "2aeca1f2",
   "metadata": {},
   "outputs": [
    {
     "data": {
      "text/html": [
       "<div>\n",
       "<style scoped>\n",
       "    .dataframe tbody tr th:only-of-type {\n",
       "        vertical-align: middle;\n",
       "    }\n",
       "\n",
       "    .dataframe tbody tr th {\n",
       "        vertical-align: top;\n",
       "    }\n",
       "\n",
       "    .dataframe thead th {\n",
       "        text-align: right;\n",
       "    }\n",
       "</style>\n",
       "<table border=\"1\" class=\"dataframe\">\n",
       "  <thead>\n",
       "    <tr style=\"text-align: right;\">\n",
       "      <th></th>\n",
       "      <th>basket_id</th>\n",
       "      <th>user_id</th>\n",
       "      <th>eval_set</th>\n",
       "      <th>order_number</th>\n",
       "      <th>order_dow</th>\n",
       "      <th>order_hour_of_day</th>\n",
       "      <th>days_since_prior_order</th>\n",
       "      <th>item_id</th>\n",
       "      <th>add_to_cart_order</th>\n",
       "      <th>reordered</th>\n",
       "    </tr>\n",
       "  </thead>\n",
       "  <tbody>\n",
       "    <tr>\n",
       "      <th>0</th>\n",
       "      <td>2539329</td>\n",
       "      <td>1</td>\n",
       "      <td>prior</td>\n",
       "      <td>1</td>\n",
       "      <td>2</td>\n",
       "      <td>8</td>\n",
       "      <td>NaN</td>\n",
       "      <td>196</td>\n",
       "      <td>1</td>\n",
       "      <td>0</td>\n",
       "    </tr>\n",
       "    <tr>\n",
       "      <th>1</th>\n",
       "      <td>2539329</td>\n",
       "      <td>1</td>\n",
       "      <td>prior</td>\n",
       "      <td>1</td>\n",
       "      <td>2</td>\n",
       "      <td>8</td>\n",
       "      <td>NaN</td>\n",
       "      <td>14084</td>\n",
       "      <td>2</td>\n",
       "      <td>0</td>\n",
       "    </tr>\n",
       "    <tr>\n",
       "      <th>2</th>\n",
       "      <td>2539329</td>\n",
       "      <td>1</td>\n",
       "      <td>prior</td>\n",
       "      <td>1</td>\n",
       "      <td>2</td>\n",
       "      <td>8</td>\n",
       "      <td>NaN</td>\n",
       "      <td>12427</td>\n",
       "      <td>3</td>\n",
       "      <td>0</td>\n",
       "    </tr>\n",
       "    <tr>\n",
       "      <th>3</th>\n",
       "      <td>2539329</td>\n",
       "      <td>1</td>\n",
       "      <td>prior</td>\n",
       "      <td>1</td>\n",
       "      <td>2</td>\n",
       "      <td>8</td>\n",
       "      <td>NaN</td>\n",
       "      <td>26088</td>\n",
       "      <td>4</td>\n",
       "      <td>0</td>\n",
       "    </tr>\n",
       "    <tr>\n",
       "      <th>4</th>\n",
       "      <td>2539329</td>\n",
       "      <td>1</td>\n",
       "      <td>prior</td>\n",
       "      <td>1</td>\n",
       "      <td>2</td>\n",
       "      <td>8</td>\n",
       "      <td>NaN</td>\n",
       "      <td>26405</td>\n",
       "      <td>5</td>\n",
       "      <td>0</td>\n",
       "    </tr>\n",
       "    <tr>\n",
       "      <th>...</th>\n",
       "      <td>...</td>\n",
       "      <td>...</td>\n",
       "      <td>...</td>\n",
       "      <td>...</td>\n",
       "      <td>...</td>\n",
       "      <td>...</td>\n",
       "      <td>...</td>\n",
       "      <td>...</td>\n",
       "      <td>...</td>\n",
       "      <td>...</td>\n",
       "    </tr>\n",
       "    <tr>\n",
       "      <th>33819101</th>\n",
       "      <td>272231</td>\n",
       "      <td>206209</td>\n",
       "      <td>train</td>\n",
       "      <td>14</td>\n",
       "      <td>6</td>\n",
       "      <td>14</td>\n",
       "      <td>30.0</td>\n",
       "      <td>40603</td>\n",
       "      <td>4</td>\n",
       "      <td>0</td>\n",
       "    </tr>\n",
       "    <tr>\n",
       "      <th>33819102</th>\n",
       "      <td>272231</td>\n",
       "      <td>206209</td>\n",
       "      <td>train</td>\n",
       "      <td>14</td>\n",
       "      <td>6</td>\n",
       "      <td>14</td>\n",
       "      <td>30.0</td>\n",
       "      <td>15655</td>\n",
       "      <td>5</td>\n",
       "      <td>0</td>\n",
       "    </tr>\n",
       "    <tr>\n",
       "      <th>33819103</th>\n",
       "      <td>272231</td>\n",
       "      <td>206209</td>\n",
       "      <td>train</td>\n",
       "      <td>14</td>\n",
       "      <td>6</td>\n",
       "      <td>14</td>\n",
       "      <td>30.0</td>\n",
       "      <td>42606</td>\n",
       "      <td>6</td>\n",
       "      <td>0</td>\n",
       "    </tr>\n",
       "    <tr>\n",
       "      <th>33819104</th>\n",
       "      <td>272231</td>\n",
       "      <td>206209</td>\n",
       "      <td>train</td>\n",
       "      <td>14</td>\n",
       "      <td>6</td>\n",
       "      <td>14</td>\n",
       "      <td>30.0</td>\n",
       "      <td>37966</td>\n",
       "      <td>7</td>\n",
       "      <td>0</td>\n",
       "    </tr>\n",
       "    <tr>\n",
       "      <th>33819105</th>\n",
       "      <td>272231</td>\n",
       "      <td>206209</td>\n",
       "      <td>train</td>\n",
       "      <td>14</td>\n",
       "      <td>6</td>\n",
       "      <td>14</td>\n",
       "      <td>30.0</td>\n",
       "      <td>39216</td>\n",
       "      <td>8</td>\n",
       "      <td>1</td>\n",
       "    </tr>\n",
       "  </tbody>\n",
       "</table>\n",
       "<p>32621611 rows × 10 columns</p>\n",
       "</div>"
      ],
      "text/plain": [
       "          basket_id  user_id eval_set  order_number  order_dow  \\\n",
       "0           2539329        1    prior             1          2   \n",
       "1           2539329        1    prior             1          2   \n",
       "2           2539329        1    prior             1          2   \n",
       "3           2539329        1    prior             1          2   \n",
       "4           2539329        1    prior             1          2   \n",
       "...             ...      ...      ...           ...        ...   \n",
       "33819101     272231   206209    train            14          6   \n",
       "33819102     272231   206209    train            14          6   \n",
       "33819103     272231   206209    train            14          6   \n",
       "33819104     272231   206209    train            14          6   \n",
       "33819105     272231   206209    train            14          6   \n",
       "\n",
       "          order_hour_of_day  days_since_prior_order  item_id  \\\n",
       "0                         8                     NaN      196   \n",
       "1                         8                     NaN    14084   \n",
       "2                         8                     NaN    12427   \n",
       "3                         8                     NaN    26088   \n",
       "4                         8                     NaN    26405   \n",
       "...                     ...                     ...      ...   \n",
       "33819101                 14                    30.0    40603   \n",
       "33819102                 14                    30.0    15655   \n",
       "33819103                 14                    30.0    42606   \n",
       "33819104                 14                    30.0    37966   \n",
       "33819105                 14                    30.0    39216   \n",
       "\n",
       "          add_to_cart_order  reordered  \n",
       "0                         1          0  \n",
       "1                         2          0  \n",
       "2                         3          0  \n",
       "3                         4          0  \n",
       "4                         5          0  \n",
       "...                     ...        ...  \n",
       "33819101                  4          0  \n",
       "33819102                  5          0  \n",
       "33819103                  6          0  \n",
       "33819104                  7          0  \n",
       "33819105                  8          1  \n",
       "\n",
       "[32621611 rows x 10 columns]"
      ]
     },
     "execution_count": 30,
     "metadata": {},
     "output_type": "execute_result"
    }
   ],
   "source": [
    "all_orders"
   ]
  },
  {
   "cell_type": "code",
   "execution_count": 13,
   "id": "fe3fb6ce",
   "metadata": {},
   "outputs": [],
   "source": [
    "all_orders, basket_per_user = pernir_preproc.filter_orders(all_orders, min_basket_per_user, min_item_per_basket)\n",
    "users = pernir_preproc.sample_users(basket_per_user, sample_size)"
   ]
  },
  {
   "cell_type": "code",
   "execution_count": 14,
   "id": "bdb903af",
   "metadata": {},
   "outputs": [],
   "source": [
    "train_baskets_file_path = '../data/instacart/train_baskets.csv'\n",
    "test_baskets_file_path = '../data/instacart/test_baskets.csv'\n",
    "valid_baskets_file_path = '../data/instacart/valid_baskets.csv'"
   ]
  },
  {
   "cell_type": "code",
   "execution_count": 15,
   "id": "d8d90372",
   "metadata": {},
   "outputs": [],
   "source": [
    "train_baskets, test_baskets, valid_baskets = pernir_preproc.split_baskets(all_orders, users)\n",
    "\n",
    "pernir_preproc.save_baskets(train_baskets, test_baskets, valid_baskets, train_baskets_file_path, test_baskets_file_path, valid_baskets_file_path)"
   ]
  },
  {
   "cell_type": "code",
   "execution_count": 16,
   "id": "6dd11be9",
   "metadata": {},
   "outputs": [],
   "source": [
    "basket_items_dict = pernir_preproc.create_basket_items_dict(train_baskets)\n",
    "user_baskets_dict = pernir_preproc.create_user_baskets_dict(train_baskets)\n",
    "item_base_scores = pernir_preproc.create_item_base_scores(user_baskets_dict, basket_items_dict)\n",
    "data_list = pernir_preproc.create_data_list(item_base_scores, user_baskets_dict)"
   ]
  },
  {
   "cell_type": "code",
   "execution_count": 17,
   "id": "321a150d",
   "metadata": {},
   "outputs": [],
   "source": [
    "file_path = '../data/instacart/user_item_scores.csv'\n",
    "pernir_preproc.save_dataframe(data_list, file_path)"
   ]
  },
  {
   "cell_type": "code",
   "execution_count": 21,
   "id": "c6f8a675",
   "metadata": {},
   "outputs": [
    {
     "name": "stderr",
     "output_type": "stream",
     "text": [
      "Done: 100%|██████████████████████████████████████████████████████████████████████████████████████████████████████████████████████████| 10000/10000 [00:02<00:00, 4728.86it/s]\n"
     ]
    }
   ],
   "source": [
    "df = pd.read_csv(file_path)\n",
    "item_dic, rev_item_dic, user_dic, rev_user_dic = pernir_preproc.create_user_item_dicts(df)\n",
    "userItem_mat = pernir_preproc.create_user_item_matrix(df, user_dic, item_dic)\n",
    "final_user_sim_dict = pernir_preproc.create_user_sim_dict(userItem_mat, user_dic, rev_user_dic)"
   ]
  },
  {
   "cell_type": "code",
   "execution_count": 22,
   "id": "b1844195",
   "metadata": {},
   "outputs": [],
   "source": [
    "file_path = '../data/instacart/user_sim.pickle'\n",
    "pernir_preproc.save_user_sim_dict(final_user_sim_dict, file_path)"
   ]
  },
  {
   "cell_type": "code",
   "execution_count": 23,
   "id": "64286d58",
   "metadata": {},
   "outputs": [],
   "source": [
    "basket_path = '../data/instacart/valid_baskets.csv'\n",
    "sample_path = '../data/instacart/valid_samples.csv'\n",
    "\n",
    "basket_users_dict, basket_items_dict = pernir_preproc.read_and_process_baskets(basket_path)"
   ]
  },
  {
   "cell_type": "code",
   "execution_count": 24,
   "id": "4e4e3e7c",
   "metadata": {},
   "outputs": [],
   "source": [
    "sample_baskets, sample_users, full_baskets, masked_items_list, masked_baskets, num_to_mask_list = pernir_preproc.create_masked_baskets(basket_items_dict, basket_users_dict, mask_percentage)\n"
   ]
  },
  {
   "cell_type": "code",
   "execution_count": 25,
   "id": "ebdf427b",
   "metadata": {},
   "outputs": [],
   "source": [
    "sample_df = pernir_preproc.create_sample_dataframe(sample_baskets, sample_users, full_baskets, masked_items_list, masked_baskets, num_to_mask_list)"
   ]
  },
  {
   "cell_type": "code",
   "execution_count": 27,
   "id": "2e00867d",
   "metadata": {},
   "outputs": [
    {
     "data": {
      "text/html": [
       "<div>\n",
       "<style scoped>\n",
       "    .dataframe tbody tr th:only-of-type {\n",
       "        vertical-align: middle;\n",
       "    }\n",
       "\n",
       "    .dataframe tbody tr th {\n",
       "        vertical-align: top;\n",
       "    }\n",
       "\n",
       "    .dataframe thead th {\n",
       "        text-align: right;\n",
       "    }\n",
       "</style>\n",
       "<table border=\"1\" class=\"dataframe\">\n",
       "  <thead>\n",
       "    <tr style=\"text-align: right;\">\n",
       "      <th></th>\n",
       "      <th>basket_id</th>\n",
       "      <th>user_id</th>\n",
       "      <th>full_basket</th>\n",
       "      <th>masked_items</th>\n",
       "      <th>masked_basket</th>\n",
       "      <th>num_to_mask</th>\n",
       "    </tr>\n",
       "  </thead>\n",
       "  <tbody>\n",
       "    <tr>\n",
       "      <th>0</th>\n",
       "      <td>282</td>\n",
       "      <td>8456</td>\n",
       "      <td>[2727, 21338, 23767, 43892]</td>\n",
       "      <td>[43892]</td>\n",
       "      <td>[2727, 21338, 23767]</td>\n",
       "      <td>1</td>\n",
       "    </tr>\n",
       "    <tr>\n",
       "      <th>1</th>\n",
       "      <td>1016</td>\n",
       "      <td>26337</td>\n",
       "      <td>[38152, 12916, 36126, 32175]</td>\n",
       "      <td>[32175]</td>\n",
       "      <td>[38152, 12916, 36126]</td>\n",
       "      <td>1</td>\n",
       "    </tr>\n",
       "    <tr>\n",
       "      <th>2</th>\n",
       "      <td>1973</td>\n",
       "      <td>115583</td>\n",
       "      <td>[4778, 10957, 40174, 36618, 7648, 14028, 17696]</td>\n",
       "      <td>[10957]</td>\n",
       "      <td>[4778, 40174, 36618, 7648, 14028, 17696]</td>\n",
       "      <td>1</td>\n",
       "    </tr>\n",
       "  </tbody>\n",
       "</table>\n",
       "</div>"
      ],
      "text/plain": [
       "   basket_id  user_id                                      full_basket  \\\n",
       "0        282     8456                      [2727, 21338, 23767, 43892]   \n",
       "1       1016    26337                     [38152, 12916, 36126, 32175]   \n",
       "2       1973   115583  [4778, 10957, 40174, 36618, 7648, 14028, 17696]   \n",
       "\n",
       "  masked_items                             masked_basket  num_to_mask  \n",
       "0      [43892]                      [2727, 21338, 23767]            1  \n",
       "1      [32175]                     [38152, 12916, 36126]            1  \n",
       "2      [10957]  [4778, 40174, 36618, 7648, 14028, 17696]            1  "
      ]
     },
     "execution_count": 27,
     "metadata": {},
     "output_type": "execute_result"
    }
   ],
   "source": [
    "sample_df.head(3)"
   ]
  },
  {
   "cell_type": "code",
   "execution_count": 29,
   "id": "668a9a05",
   "metadata": {},
   "outputs": [],
   "source": [
    "sample_df.to_csv('../data/instacart/test_sample_to_predict_instacart.csv', index = False)"
   ]
  },
  {
   "cell_type": "markdown",
   "id": "8b33aa31",
   "metadata": {},
   "source": [
    "## 2. Ta Feng"
   ]
  },
  {
   "cell_type": "code",
   "execution_count": 288,
   "id": "d748ff14",
   "metadata": {},
   "outputs": [],
   "source": [
    "min_basket_per_user = 1\n",
    "min_item_per_basket = 3\n",
    "sample_size = 10000"
   ]
  },
  {
   "cell_type": "code",
   "execution_count": 289,
   "id": "399135de",
   "metadata": {},
   "outputs": [],
   "source": [
    "ta_feng_dataset = pd.read_csv('../data/ta_feng/ta_feng_all_months_merged.csv')[\n",
    "    ['TRANSACTION_DT', 'CUSTOMER_ID', 'PRODUCT_ID']]\n",
    "\n",
    "ta_feng_dataset.TRANSACTION_DT = ta_feng_dataset.TRANSACTION_DT .apply(lambda x: x.replace('/', '-'))\n",
    "ta_feng_dataset.TRANSACTION_DT = [datetime.strptime(date, '%m-%d-%Y').strftime('%Y-%m-%d') for date in ta_feng_dataset.TRANSACTION_DT]"
   ]
  },
  {
   "cell_type": "code",
   "execution_count": 290,
   "id": "c5f65d37",
   "metadata": {},
   "outputs": [],
   "source": [
    "df = ta_feng_dataset.rename({'TRANSACTION_DT': 'date', 'CUSTOMER_ID': 'user_id', \n",
    "                               'PRODUCT_ID': 'item_id'}, axis = 1)"
   ]
  },
  {
   "cell_type": "code",
   "execution_count": 291,
   "id": "2b484397",
   "metadata": {},
   "outputs": [
    {
     "data": {
      "text/plain": [
       "32266"
      ]
     },
     "execution_count": 291,
     "metadata": {},
     "output_type": "execute_result"
    }
   ],
   "source": [
    "# len(df.user_id.unique())"
   ]
  },
  {
   "cell_type": "code",
   "execution_count": 292,
   "id": "1d0b531d",
   "metadata": {},
   "outputs": [
    {
     "data": {
      "text/html": [
       "<div>\n",
       "<style scoped>\n",
       "    .dataframe tbody tr th:only-of-type {\n",
       "        vertical-align: middle;\n",
       "    }\n",
       "\n",
       "    .dataframe tbody tr th {\n",
       "        vertical-align: top;\n",
       "    }\n",
       "\n",
       "    .dataframe thead th {\n",
       "        text-align: right;\n",
       "    }\n",
       "</style>\n",
       "<table border=\"1\" class=\"dataframe\">\n",
       "  <thead>\n",
       "    <tr style=\"text-align: right;\">\n",
       "      <th></th>\n",
       "      <th>date</th>\n",
       "      <th>user_id</th>\n",
       "      <th>item_id</th>\n",
       "      <th>basket_id</th>\n",
       "    </tr>\n",
       "  </thead>\n",
       "  <tbody>\n",
       "    <tr>\n",
       "      <th>0</th>\n",
       "      <td>2000-11-01</td>\n",
       "      <td>1104905</td>\n",
       "      <td>4710199010372</td>\n",
       "      <td>78</td>\n",
       "    </tr>\n",
       "    <tr>\n",
       "      <th>1</th>\n",
       "      <td>2000-11-01</td>\n",
       "      <td>418683</td>\n",
       "      <td>4710857472535</td>\n",
       "      <td>34</td>\n",
       "    </tr>\n",
       "    <tr>\n",
       "      <th>2</th>\n",
       "      <td>2000-11-01</td>\n",
       "      <td>1057331</td>\n",
       "      <td>4710043654103</td>\n",
       "      <td>75</td>\n",
       "    </tr>\n",
       "  </tbody>\n",
       "</table>\n",
       "</div>"
      ],
      "text/plain": [
       "         date  user_id        item_id  basket_id\n",
       "0  2000-11-01  1104905  4710199010372         78\n",
       "1  2000-11-01   418683  4710857472535         34\n",
       "2  2000-11-01  1057331  4710043654103         75"
      ]
     },
     "execution_count": 292,
     "metadata": {},
     "output_type": "execute_result"
    }
   ],
   "source": [
    "def labelling_order_id(df):\n",
    "    \n",
    "    #setting order id as its not impicitly mentioned in original data \n",
    "    #we count order id as label of basket of items for users puchases within a certain day\n",
    "\n",
    "    grouped = df.groupby(['date', 'user_id'])\n",
    "    df['basket_id'] = grouped.ngroup() + 1\n",
    "    \n",
    "    return df\n",
    "\n",
    "labelling_order_id(df).head(3)"
   ]
  },
  {
   "cell_type": "code",
   "execution_count": 293,
   "id": "5c44ee18",
   "metadata": {},
   "outputs": [],
   "source": [
    "df['date'] = pd.to_datetime(df['date'])\n",
    "df = df.sort_values(['date', 'user_id', 'basket_id'])\n",
    "df['add_to_cart_order'] = df.groupby(['user_id', 'basket_id']).cumcount() + 1"
   ]
  },
  {
   "cell_type": "code",
   "execution_count": 294,
   "id": "98ee6bd2",
   "metadata": {},
   "outputs": [],
   "source": [
    "#count order number as there werent any data in original dataset\n",
    "def add_order_number(df):\n",
    "    df = df.reset_index()\n",
    "    orders_num_df = df.groupby(['user_id', 'date', 'basket_id']).agg(list).reset_index()\n",
    "    orders_num_df['order_number'] = orders_num_df.groupby('user_id').cumcount() + 1\n",
    "    orders_num_df = orders_num_df[['user_id', 'date', 'basket_id', 'order_number']]\n",
    "    df = df.merge(orders_num_df, on = ['date', 'user_id', 'basket_id'])\n",
    "\n",
    "    return df"
   ]
  },
  {
   "cell_type": "code",
   "execution_count": 295,
   "id": "b486f273",
   "metadata": {},
   "outputs": [
    {
     "data": {
      "text/html": [
       "<div>\n",
       "<style scoped>\n",
       "    .dataframe tbody tr th:only-of-type {\n",
       "        vertical-align: middle;\n",
       "    }\n",
       "\n",
       "    .dataframe tbody tr th {\n",
       "        vertical-align: top;\n",
       "    }\n",
       "\n",
       "    .dataframe thead th {\n",
       "        text-align: right;\n",
       "    }\n",
       "</style>\n",
       "<table border=\"1\" class=\"dataframe\">\n",
       "  <thead>\n",
       "    <tr style=\"text-align: right;\">\n",
       "      <th></th>\n",
       "      <th>index</th>\n",
       "      <th>date</th>\n",
       "      <th>user_id</th>\n",
       "      <th>item_id</th>\n",
       "      <th>basket_id</th>\n",
       "      <th>add_to_cart_order</th>\n",
       "      <th>order_number</th>\n",
       "    </tr>\n",
       "  </thead>\n",
       "  <tbody>\n",
       "    <tr>\n",
       "      <th>0</th>\n",
       "      <td>789</td>\n",
       "      <td>2000-11-01</td>\n",
       "      <td>38317</td>\n",
       "      <td>4714981010038</td>\n",
       "      <td>1</td>\n",
       "      <td>1</td>\n",
       "      <td>1</td>\n",
       "    </tr>\n",
       "    <tr>\n",
       "      <th>1</th>\n",
       "      <td>826</td>\n",
       "      <td>2000-11-01</td>\n",
       "      <td>38317</td>\n",
       "      <td>4719090105002</td>\n",
       "      <td>1</td>\n",
       "      <td>2</td>\n",
       "      <td>1</td>\n",
       "    </tr>\n",
       "    <tr>\n",
       "      <th>2</th>\n",
       "      <td>863</td>\n",
       "      <td>2000-11-01</td>\n",
       "      <td>45902</td>\n",
       "      <td>4710147100018</td>\n",
       "      <td>2</td>\n",
       "      <td>1</td>\n",
       "      <td>1</td>\n",
       "    </tr>\n",
       "  </tbody>\n",
       "</table>\n",
       "</div>"
      ],
      "text/plain": [
       "   index       date  user_id        item_id  basket_id  add_to_cart_order  \\\n",
       "0    789 2000-11-01    38317  4714981010038          1                  1   \n",
       "1    826 2000-11-01    38317  4719090105002          1                  2   \n",
       "2    863 2000-11-01    45902  4710147100018          2                  1   \n",
       "\n",
       "   order_number  \n",
       "0             1  \n",
       "1             1  \n",
       "2             1  "
      ]
     },
     "execution_count": 295,
     "metadata": {},
     "output_type": "execute_result"
    }
   ],
   "source": [
    "fin_df = add_order_number(df)\n",
    "fin_df.head(3)"
   ]
  },
  {
   "cell_type": "code",
   "execution_count": 296,
   "id": "ace66590",
   "metadata": {},
   "outputs": [],
   "source": [
    "all_orders_tf, basket_per_user_tf = pernir_preproc.filter_orders(fin_df, min_basket_per_user, min_item_per_basket)\n",
    "users_tf = pernir_preproc.sample_users(basket_per_user_tf, sample_size)"
   ]
  },
  {
   "cell_type": "code",
   "execution_count": 297,
   "id": "515f70e6",
   "metadata": {},
   "outputs": [],
   "source": [
    "train_baskets_file_path_tf = '../data/ta_feng/train_baskets.csv'\n",
    "test_baskets_file_path_tf = '../data/ta_feng/test_baskets.csv'\n",
    "valid_baskets_file_path_tf = '../data/ta_feng/valid_baskets.csv'"
   ]
  },
  {
   "cell_type": "code",
   "execution_count": 298,
   "id": "dd68754b",
   "metadata": {},
   "outputs": [],
   "source": [
    "train_baskets_tf, test_baskets_tf, valid_baskets_tf = pernir_preproc.split_baskets(all_orders_tf, users_tf)"
   ]
  },
  {
   "cell_type": "code",
   "execution_count": 299,
   "id": "51e19658",
   "metadata": {},
   "outputs": [],
   "source": [
    "pernir_preproc.save_baskets(train_baskets_tf, test_baskets_tf, valid_baskets_tf, \n",
    "                            train_baskets_file_path_tf, test_baskets_file_path_tf, valid_baskets_file_path_tf)"
   ]
  },
  {
   "cell_type": "code",
   "execution_count": 300,
   "id": "22737d5a",
   "metadata": {},
   "outputs": [],
   "source": [
    "basket_items_dict_tf = pernir_preproc.create_basket_items_dict(train_baskets_tf)\n",
    "user_baskets_dict_tf = pernir_preproc.create_user_baskets_dict(train_baskets_tf)\n",
    "item_base_scores_tf = pernir_preproc.create_item_base_scores(user_baskets_dict_tf, basket_items_dict_tf)\n",
    "data_list_tf = pernir_preproc.create_data_list(item_base_scores_tf, user_baskets_dict_tf)"
   ]
  },
  {
   "cell_type": "code",
   "execution_count": 301,
   "id": "7cbd5a97",
   "metadata": {},
   "outputs": [],
   "source": [
    "file_path = '../data/ta_feng/user_item_scores.csv'\n",
    "pernir_preproc.save_dataframe(data_list_tf, file_path)"
   ]
  },
  {
   "cell_type": "code",
   "execution_count": 302,
   "id": "2ae1475d",
   "metadata": {},
   "outputs": [
    {
     "name": "stderr",
     "output_type": "stream",
     "text": [
      "Done: 100%|███████████████████████████████████████████████████████████████████████████████████████████████████████████████████████████| 3790/3790 [00:00<00:00, 38282.47it/s]\n"
     ]
    }
   ],
   "source": [
    "df = pd.read_csv(file_path)\n",
    "item_dic_tf, rev_item_dic_tf, user_dic_tf, rev_user_dic_tf = pernir_preproc.create_user_item_dicts(df)\n",
    "userItem_mat_tf = pernir_preproc.create_user_item_matrix(df, user_dic_tf, item_dic_tf)\n",
    "final_user_sim_dict_tf = pernir_preproc.create_user_sim_dict(userItem_mat_tf, user_dic_tf, rev_user_dic_tf)"
   ]
  },
  {
   "cell_type": "code",
   "execution_count": 303,
   "id": "8838887b",
   "metadata": {},
   "outputs": [],
   "source": [
    "file_path = '../data/ta_feng/user_sim.pickle'\n",
    "pernir_preproc.save_user_sim_dict(final_user_sim_dict_tf, file_path)"
   ]
  },
  {
   "cell_type": "code",
   "execution_count": 304,
   "id": "40e6d321",
   "metadata": {},
   "outputs": [],
   "source": [
    "basket_path = '../data/ta_feng/valid_baskets.csv'\n",
    "sample_path = '../data/ta_feng/valid_samples.csv'\n",
    "\n",
    "basket_users_dict_tf, basket_items_dict_tf = pernir_preproc.read_and_process_baskets(basket_path)"
   ]
  },
  {
   "cell_type": "code",
   "execution_count": 305,
   "id": "21ae46c0",
   "metadata": {},
   "outputs": [],
   "source": [
    "sample_baskets, sample_users, full_baskets, masked_items_list, masked_baskets, num_to_mask_list = pernir_preproc.create_masked_baskets(basket_items_dict_tf, basket_users_dict_tf, mask_percentage)\n"
   ]
  },
  {
   "cell_type": "code",
   "execution_count": 306,
   "id": "8b4e0056",
   "metadata": {},
   "outputs": [],
   "source": [
    "sample_df = pernir_preproc.create_sample_dataframe(sample_baskets, sample_users, full_baskets, masked_items_list, masked_baskets, num_to_mask_list)"
   ]
  },
  {
   "cell_type": "code",
   "execution_count": 307,
   "id": "831f9865",
   "metadata": {},
   "outputs": [
    {
     "data": {
      "text/html": [
       "<div>\n",
       "<style scoped>\n",
       "    .dataframe tbody tr th:only-of-type {\n",
       "        vertical-align: middle;\n",
       "    }\n",
       "\n",
       "    .dataframe tbody tr th {\n",
       "        vertical-align: top;\n",
       "    }\n",
       "\n",
       "    .dataframe thead th {\n",
       "        text-align: right;\n",
       "    }\n",
       "</style>\n",
       "<table border=\"1\" class=\"dataframe\">\n",
       "  <thead>\n",
       "    <tr style=\"text-align: right;\">\n",
       "      <th></th>\n",
       "      <th>basket_id</th>\n",
       "      <th>user_id</th>\n",
       "      <th>full_basket</th>\n",
       "      <th>masked_items</th>\n",
       "      <th>masked_basket</th>\n",
       "      <th>num_to_mask</th>\n",
       "    </tr>\n",
       "  </thead>\n",
       "  <tbody>\n",
       "    <tr>\n",
       "      <th>0</th>\n",
       "      <td>150</td>\n",
       "      <td>1885958</td>\n",
       "      <td>[4710943100410, 4710992231189, 4711207003027, ...</td>\n",
       "      <td>[4710943100410]</td>\n",
       "      <td>[4710992231189, 4711207003027, 4710046011101]</td>\n",
       "      <td>1</td>\n",
       "    </tr>\n",
       "    <tr>\n",
       "      <th>1</th>\n",
       "      <td>166</td>\n",
       "      <td>2034638</td>\n",
       "      <td>[4710085172696, 4710085172702, 4710085120093, ...</td>\n",
       "      <td>[4710085172702]</td>\n",
       "      <td>[4710085172696, 4710085120093, 4710085150311, ...</td>\n",
       "      <td>1</td>\n",
       "    </tr>\n",
       "    <tr>\n",
       "      <th>2</th>\n",
       "      <td>305</td>\n",
       "      <td>375917</td>\n",
       "      <td>[4711258007371, 4710363913201, 4710311856116, ...</td>\n",
       "      <td>[4710095987402, 4710172020077, 4710063121494, ...</td>\n",
       "      <td>[4711258007371, 4710363913201, 4710311856116, ...</td>\n",
       "      <td>4</td>\n",
       "    </tr>\n",
       "    <tr>\n",
       "      <th>3</th>\n",
       "      <td>408</td>\n",
       "      <td>828222</td>\n",
       "      <td>[4710498123339, 4714981010038, 4715398208339, ...</td>\n",
       "      <td>[8992741941327]</td>\n",
       "      <td>[4710498123339, 4714981010038, 4715398208339, ...</td>\n",
       "      <td>1</td>\n",
       "    </tr>\n",
       "    <tr>\n",
       "      <th>4</th>\n",
       "      <td>440</td>\n",
       "      <td>903042</td>\n",
       "      <td>[4710114718505, 4710054380619, 4710314432157]</td>\n",
       "      <td>[4710114718505]</td>\n",
       "      <td>[4710054380619, 4710314432157]</td>\n",
       "      <td>1</td>\n",
       "    </tr>\n",
       "  </tbody>\n",
       "</table>\n",
       "</div>"
      ],
      "text/plain": [
       "   basket_id  user_id                                        full_basket  \\\n",
       "0        150  1885958  [4710943100410, 4710992231189, 4711207003027, ...   \n",
       "1        166  2034638  [4710085172696, 4710085172702, 4710085120093, ...   \n",
       "2        305   375917  [4711258007371, 4710363913201, 4710311856116, ...   \n",
       "3        408   828222  [4710498123339, 4714981010038, 4715398208339, ...   \n",
       "4        440   903042      [4710114718505, 4710054380619, 4710314432157]   \n",
       "\n",
       "                                        masked_items  \\\n",
       "0                                    [4710943100410]   \n",
       "1                                    [4710085172702]   \n",
       "2  [4710095987402, 4710172020077, 4710063121494, ...   \n",
       "3                                    [8992741941327]   \n",
       "4                                    [4710114718505]   \n",
       "\n",
       "                                       masked_basket  num_to_mask  \n",
       "0      [4710992231189, 4711207003027, 4710046011101]            1  \n",
       "1  [4710085172696, 4710085120093, 4710085150311, ...            1  \n",
       "2  [4711258007371, 4710363913201, 4710311856116, ...            4  \n",
       "3  [4710498123339, 4714981010038, 4715398208339, ...            1  \n",
       "4                     [4710054380619, 4710314432157]            1  "
      ]
     },
     "execution_count": 307,
     "metadata": {},
     "output_type": "execute_result"
    }
   ],
   "source": [
    "sample_df.head()"
   ]
  },
  {
   "cell_type": "code",
   "execution_count": 308,
   "id": "9c5b6386",
   "metadata": {},
   "outputs": [],
   "source": [
    "sample_df.to_csv('../data/ta_feng/test_sample_to_predict_ta_feng.csv', index = False)"
   ]
  },
  {
   "cell_type": "markdown",
   "id": "a4a14e30",
   "metadata": {},
   "source": [
    "## 3. Dunnhumpy "
   ]
  },
  {
   "cell_type": "code",
   "execution_count": 219,
   "id": "83f94da1",
   "metadata": {},
   "outputs": [],
   "source": [
    "dh_dataset = pd.read_csv('../data/dunnhumby/transaction_data.csv')[['household_key', 'BASKET_ID', 'PRODUCT_ID', 'WEEK_NO']].rename({'household_key': 'user_id',\n",
    "                                                                                                               'BASKET_ID': 'basket_id',\n",
    "                                                                                                               'PRODUCT_ID': 'item_id', \n",
    "                                                                                                                                   'WEEK_NO': 'date'}\n",
    "                                                                                                             , axis = 1)"
   ]
  },
  {
   "cell_type": "code",
   "execution_count": 220,
   "id": "e73d9ed2",
   "metadata": {},
   "outputs": [
    {
     "data": {
      "text/html": [
       "<div>\n",
       "<style scoped>\n",
       "    .dataframe tbody tr th:only-of-type {\n",
       "        vertical-align: middle;\n",
       "    }\n",
       "\n",
       "    .dataframe tbody tr th {\n",
       "        vertical-align: top;\n",
       "    }\n",
       "\n",
       "    .dataframe thead th {\n",
       "        text-align: right;\n",
       "    }\n",
       "</style>\n",
       "<table border=\"1\" class=\"dataframe\">\n",
       "  <thead>\n",
       "    <tr style=\"text-align: right;\">\n",
       "      <th></th>\n",
       "      <th>user_id</th>\n",
       "      <th>basket_id</th>\n",
       "      <th>item_id</th>\n",
       "      <th>date</th>\n",
       "    </tr>\n",
       "  </thead>\n",
       "  <tbody>\n",
       "    <tr>\n",
       "      <th>0</th>\n",
       "      <td>2375</td>\n",
       "      <td>26984851472</td>\n",
       "      <td>1004906</td>\n",
       "      <td>1</td>\n",
       "    </tr>\n",
       "    <tr>\n",
       "      <th>1</th>\n",
       "      <td>2375</td>\n",
       "      <td>26984851472</td>\n",
       "      <td>1033142</td>\n",
       "      <td>1</td>\n",
       "    </tr>\n",
       "    <tr>\n",
       "      <th>2</th>\n",
       "      <td>2375</td>\n",
       "      <td>26984851472</td>\n",
       "      <td>1036325</td>\n",
       "      <td>1</td>\n",
       "    </tr>\n",
       "  </tbody>\n",
       "</table>\n",
       "</div>"
      ],
      "text/plain": [
       "   user_id    basket_id  item_id  date\n",
       "0     2375  26984851472  1004906     1\n",
       "1     2375  26984851472  1033142     1\n",
       "2     2375  26984851472  1036325     1"
      ]
     },
     "execution_count": 220,
     "metadata": {},
     "output_type": "execute_result"
    }
   ],
   "source": [
    "dh_dataset.head(3)"
   ]
  },
  {
   "cell_type": "code",
   "execution_count": 221,
   "id": "d6b6d787",
   "metadata": {},
   "outputs": [
    {
     "data": {
      "text/plain": [
       "2500"
      ]
     },
     "execution_count": 221,
     "metadata": {},
     "output_type": "execute_result"
    }
   ],
   "source": [
    "len(dh_dataset.user_id.unique())"
   ]
  },
  {
   "cell_type": "code",
   "execution_count": 222,
   "id": "dad6af25",
   "metadata": {},
   "outputs": [],
   "source": [
    "dh_dataset = dh_dataset.sort_values(['user_id', 'date', 'basket_id'])\n",
    "dh_dataset['add_to_cart_order'] = dh_dataset.groupby(['user_id', 'basket_id']).cumcount() + 1"
   ]
  },
  {
   "cell_type": "code",
   "execution_count": 223,
   "id": "4a2c7a4a",
   "metadata": {},
   "outputs": [
    {
     "data": {
      "text/html": [
       "<div>\n",
       "<style scoped>\n",
       "    .dataframe tbody tr th:only-of-type {\n",
       "        vertical-align: middle;\n",
       "    }\n",
       "\n",
       "    .dataframe tbody tr th {\n",
       "        vertical-align: top;\n",
       "    }\n",
       "\n",
       "    .dataframe thead th {\n",
       "        text-align: right;\n",
       "    }\n",
       "</style>\n",
       "<table border=\"1\" class=\"dataframe\">\n",
       "  <thead>\n",
       "    <tr style=\"text-align: right;\">\n",
       "      <th></th>\n",
       "      <th>index</th>\n",
       "      <th>user_id</th>\n",
       "      <th>basket_id</th>\n",
       "      <th>item_id</th>\n",
       "      <th>date</th>\n",
       "      <th>add_to_cart_order</th>\n",
       "      <th>order_number</th>\n",
       "    </tr>\n",
       "  </thead>\n",
       "  <tbody>\n",
       "    <tr>\n",
       "      <th>0</th>\n",
       "      <td>46996</td>\n",
       "      <td>1</td>\n",
       "      <td>27601281299</td>\n",
       "      <td>825123</td>\n",
       "      <td>8</td>\n",
       "      <td>1</td>\n",
       "      <td>1</td>\n",
       "    </tr>\n",
       "    <tr>\n",
       "      <th>1</th>\n",
       "      <td>46997</td>\n",
       "      <td>1</td>\n",
       "      <td>27601281299</td>\n",
       "      <td>831447</td>\n",
       "      <td>8</td>\n",
       "      <td>2</td>\n",
       "      <td>1</td>\n",
       "    </tr>\n",
       "    <tr>\n",
       "      <th>2</th>\n",
       "      <td>46998</td>\n",
       "      <td>1</td>\n",
       "      <td>27601281299</td>\n",
       "      <td>840361</td>\n",
       "      <td>8</td>\n",
       "      <td>3</td>\n",
       "      <td>1</td>\n",
       "    </tr>\n",
       "  </tbody>\n",
       "</table>\n",
       "</div>"
      ],
      "text/plain": [
       "   index  user_id    basket_id  item_id  date  add_to_cart_order  order_number\n",
       "0  46996        1  27601281299   825123     8                  1             1\n",
       "1  46997        1  27601281299   831447     8                  2             1\n",
       "2  46998        1  27601281299   840361     8                  3             1"
      ]
     },
     "execution_count": 223,
     "metadata": {},
     "output_type": "execute_result"
    }
   ],
   "source": [
    "fin_dh = add_order_number(dh_dataset)\n",
    "fin_dh.head(3)"
   ]
  },
  {
   "cell_type": "code",
   "execution_count": 230,
   "id": "d8d08589",
   "metadata": {},
   "outputs": [],
   "source": [
    "fin_dh.shape\n",
    "\n",
    "min_basket_per_user = 1\n",
    "min_item_per_basket = 2\n",
    "sample_size = 2500 #we are using all users "
   ]
  },
  {
   "cell_type": "code",
   "execution_count": 231,
   "id": "73394713",
   "metadata": {},
   "outputs": [],
   "source": [
    "all_orders_dh, basket_per_user_dh = pernir_preproc.filter_orders(fin_dh, min_basket_per_user, min_item_per_basket)\n",
    "users_dh = pernir_preproc.sample_users(basket_per_user_dh, sample_size)"
   ]
  },
  {
   "cell_type": "code",
   "execution_count": 232,
   "id": "d698ec2d",
   "metadata": {},
   "outputs": [],
   "source": [
    "train_baskets_file_path_dh = '../data/dunnhumby/train_baskets.csv'\n",
    "test_baskets_file_path_dh = '../data/dunnhumby/test_baskets.csv'\n",
    "valid_baskets_file_path_dh = '../data/dunnhumby/valid_baskets.csv'"
   ]
  },
  {
   "cell_type": "code",
   "execution_count": 233,
   "id": "acf78507",
   "metadata": {},
   "outputs": [],
   "source": [
    "train_baskets_dh, test_baskets_dh, valid_baskets_dh = pernir_preproc.split_baskets(all_orders_dh, users_dh)"
   ]
  },
  {
   "cell_type": "code",
   "execution_count": 234,
   "id": "3f0122c3",
   "metadata": {},
   "outputs": [],
   "source": [
    "pernir_preproc.save_baskets(train_baskets_dh, test_baskets_dh, valid_baskets_dh, \n",
    "                            train_baskets_file_path_dh, test_baskets_file_path_dh, valid_baskets_file_path_dh)"
   ]
  },
  {
   "cell_type": "code",
   "execution_count": 235,
   "id": "17a50576",
   "metadata": {},
   "outputs": [],
   "source": [
    "basket_items_dict_dh = pernir_preproc.create_basket_items_dict(train_baskets_dh)\n",
    "user_baskets_dict_dh = pernir_preproc.create_user_baskets_dict(train_baskets_dh)\n",
    "item_base_scores_dh = pernir_preproc.create_item_base_scores(user_baskets_dict_dh, basket_items_dict_dh)\n",
    "data_list_dh = pernir_preproc.create_data_list(item_base_scores_dh, user_baskets_dict_dh)"
   ]
  },
  {
   "cell_type": "code",
   "execution_count": 236,
   "id": "b3932c8d",
   "metadata": {},
   "outputs": [],
   "source": [
    "file_path = '../data/dunnhumby/user_item_scores.csv'\n",
    "pernir_preproc.save_dataframe(data_list_dh, file_path)"
   ]
  },
  {
   "cell_type": "code",
   "execution_count": 237,
   "id": "9c781ea8",
   "metadata": {},
   "outputs": [
    {
     "name": "stderr",
     "output_type": "stream",
     "text": [
      "Done: 100%|████████████████████████████████████████████████████████████████████████████████████████████████████████████████████████████| 2485/2485 [00:00<00:00, 6095.44it/s]\n"
     ]
    }
   ],
   "source": [
    "df = pd.read_csv(file_path)\n",
    "item_dic_dh, rev_item_dic_dh, user_dic_dh, rev_user_dic_dh = pernir_preproc.create_user_item_dicts(df)\n",
    "userItem_mat_dh = pernir_preproc.create_user_item_matrix(df, user_dic_dh, item_dic_dh)\n",
    "final_user_sim_dict_dh = pernir_preproc.create_user_sim_dict(userItem_mat_dh, user_dic_dh, rev_user_dic_dh)"
   ]
  },
  {
   "cell_type": "code",
   "execution_count": 238,
   "id": "2bc7175b",
   "metadata": {},
   "outputs": [],
   "source": [
    "file_path = '../data/dunnhumby/user_sim.pickle'\n",
    "pernir_preproc.save_user_sim_dict(final_user_sim_dict_dh, file_path)"
   ]
  },
  {
   "cell_type": "code",
   "execution_count": 239,
   "id": "79f2e844",
   "metadata": {},
   "outputs": [],
   "source": [
    "basket_path = '../data/dunnhumby/valid_baskets.csv'\n",
    "sample_path = '../data/dunnhumby/valid_samples.csv'\n",
    "\n",
    "basket_users_dict_dh, basket_items_dict_dh = pernir_preproc.read_and_process_baskets(basket_path)"
   ]
  },
  {
   "cell_type": "code",
   "execution_count": 240,
   "id": "45e80a08",
   "metadata": {},
   "outputs": [],
   "source": [
    "sample_baskets, sample_users, full_baskets, masked_items_list, masked_baskets, num_to_mask_list = pernir_preproc.create_masked_baskets(basket_items_dict_dh, \n",
    "                                                                                           basket_users_dict_dh, mask_percentage)\n"
   ]
  },
  {
   "cell_type": "code",
   "execution_count": 241,
   "id": "9c72a6f9",
   "metadata": {},
   "outputs": [],
   "source": [
    "sample_df = pernir_preproc.create_sample_dataframe(sample_baskets, sample_users, full_baskets, masked_items_list, masked_baskets, num_to_mask_list)"
   ]
  },
  {
   "cell_type": "code",
   "execution_count": 242,
   "id": "a53a6e6a",
   "metadata": {},
   "outputs": [
    {
     "data": {
      "text/html": [
       "<div>\n",
       "<style scoped>\n",
       "    .dataframe tbody tr th:only-of-type {\n",
       "        vertical-align: middle;\n",
       "    }\n",
       "\n",
       "    .dataframe tbody tr th {\n",
       "        vertical-align: top;\n",
       "    }\n",
       "\n",
       "    .dataframe thead th {\n",
       "        text-align: right;\n",
       "    }\n",
       "</style>\n",
       "<table border=\"1\" class=\"dataframe\">\n",
       "  <thead>\n",
       "    <tr style=\"text-align: right;\">\n",
       "      <th></th>\n",
       "      <th>basket_id</th>\n",
       "      <th>user_id</th>\n",
       "      <th>full_basket</th>\n",
       "      <th>masked_items</th>\n",
       "      <th>masked_basket</th>\n",
       "      <th>num_to_mask</th>\n",
       "    </tr>\n",
       "  </thead>\n",
       "  <tbody>\n",
       "    <tr>\n",
       "      <th>0</th>\n",
       "      <td>27384572088</td>\n",
       "      <td>359</td>\n",
       "      <td>[826249, 828525, 838396, 869622, 871470, 90701...</td>\n",
       "      <td>[1095700, 1062966, 1013999, 5566922, 871470, 9...</td>\n",
       "      <td>[826249, 828525, 838396, 869622, 907014, 91745...</td>\n",
       "      <td>9</td>\n",
       "    </tr>\n",
       "    <tr>\n",
       "      <th>1</th>\n",
       "      <td>27398557136</td>\n",
       "      <td>2422</td>\n",
       "      <td>[823795, 862010, 956689, 960729, 973150, 10008...</td>\n",
       "      <td>[956689, 1047450, 6602576]</td>\n",
       "      <td>[823795, 862010, 960729, 973150, 1000870, 1060...</td>\n",
       "      <td>3</td>\n",
       "    </tr>\n",
       "    <tr>\n",
       "      <th>2</th>\n",
       "      <td>27517272089</td>\n",
       "      <td>872</td>\n",
       "      <td>[1028944, 1082185]</td>\n",
       "      <td>[1028944]</td>\n",
       "      <td>[1082185]</td>\n",
       "      <td>1</td>\n",
       "    </tr>\n",
       "    <tr>\n",
       "      <th>3</th>\n",
       "      <td>27555107198</td>\n",
       "      <td>2201</td>\n",
       "      <td>[1516066, 1532784, 1625932, 1627393, 1635336]</td>\n",
       "      <td>[1635336]</td>\n",
       "      <td>[1516066, 1532784, 1625932, 1627393]</td>\n",
       "      <td>1</td>\n",
       "    </tr>\n",
       "    <tr>\n",
       "      <th>4</th>\n",
       "      <td>27601557220</td>\n",
       "      <td>948</td>\n",
       "      <td>[822970, 831063, 837107, 839262, 846550, 84798...</td>\n",
       "      <td>[1100379, 942525, 1054688, 1002654, 1101173, 1...</td>\n",
       "      <td>[822970, 831063, 837107, 846550, 847982, 84897...</td>\n",
       "      <td>10</td>\n",
       "    </tr>\n",
       "    <tr>\n",
       "      <th>...</th>\n",
       "      <td>...</td>\n",
       "      <td>...</td>\n",
       "      <td>...</td>\n",
       "      <td>...</td>\n",
       "      <td>...</td>\n",
       "      <td>...</td>\n",
       "    </tr>\n",
       "    <tr>\n",
       "      <th>2489</th>\n",
       "      <td>42289891395</td>\n",
       "      <td>539</td>\n",
       "      <td>[857571, 1008547, 1038985, 1042907, 1072009, 1...</td>\n",
       "      <td>[857571]</td>\n",
       "      <td>[1008547, 1038985, 1042907, 1072009, 1126899, ...</td>\n",
       "      <td>1</td>\n",
       "    </tr>\n",
       "    <tr>\n",
       "      <th>2490</th>\n",
       "      <td>42289906117</td>\n",
       "      <td>1823</td>\n",
       "      <td>[851865, 852540, 865174, 901062, 923789, 94545...</td>\n",
       "      <td>[1082185, 1130763, 1122568, 1075637, 851865, 9...</td>\n",
       "      <td>[852540, 865174, 901062, 945456, 948509, 95172...</td>\n",
       "      <td>6</td>\n",
       "    </tr>\n",
       "    <tr>\n",
       "      <th>2491</th>\n",
       "      <td>42291245957</td>\n",
       "      <td>2125</td>\n",
       "      <td>[1741748, 1754035, 1766903, 1769503, 1772030, ...</td>\n",
       "      <td>[13117489, 1793630, 2024753, 2031026, 1907825,...</td>\n",
       "      <td>[1741748, 1754035, 1769503, 1772030, 1789655, ...</td>\n",
       "      <td>13</td>\n",
       "    </tr>\n",
       "    <tr>\n",
       "      <th>2492</th>\n",
       "      <td>42302711057</td>\n",
       "      <td>2206</td>\n",
       "      <td>[972191, 1122428]</td>\n",
       "      <td>[1122428]</td>\n",
       "      <td>[972191]</td>\n",
       "      <td>1</td>\n",
       "    </tr>\n",
       "    <tr>\n",
       "      <th>2493</th>\n",
       "      <td>42305362497</td>\n",
       "      <td>1598</td>\n",
       "      <td>[49659, 106589, 114397, 17295222, 17904923]</td>\n",
       "      <td>[17295222]</td>\n",
       "      <td>[49659, 106589, 114397, 17904923]</td>\n",
       "      <td>1</td>\n",
       "    </tr>\n",
       "  </tbody>\n",
       "</table>\n",
       "<p>2494 rows × 6 columns</p>\n",
       "</div>"
      ],
      "text/plain": [
       "        basket_id  user_id                                        full_basket  \\\n",
       "0     27384572088      359  [826249, 828525, 838396, 869622, 871470, 90701...   \n",
       "1     27398557136     2422  [823795, 862010, 956689, 960729, 973150, 10008...   \n",
       "2     27517272089      872                                 [1028944, 1082185]   \n",
       "3     27555107198     2201      [1516066, 1532784, 1625932, 1627393, 1635336]   \n",
       "4     27601557220      948  [822970, 831063, 837107, 839262, 846550, 84798...   \n",
       "...           ...      ...                                                ...   \n",
       "2489  42289891395      539  [857571, 1008547, 1038985, 1042907, 1072009, 1...   \n",
       "2490  42289906117     1823  [851865, 852540, 865174, 901062, 923789, 94545...   \n",
       "2491  42291245957     2125  [1741748, 1754035, 1766903, 1769503, 1772030, ...   \n",
       "2492  42302711057     2206                                  [972191, 1122428]   \n",
       "2493  42305362497     1598        [49659, 106589, 114397, 17295222, 17904923]   \n",
       "\n",
       "                                           masked_items  \\\n",
       "0     [1095700, 1062966, 1013999, 5566922, 871470, 9...   \n",
       "1                            [956689, 1047450, 6602576]   \n",
       "2                                             [1028944]   \n",
       "3                                             [1635336]   \n",
       "4     [1100379, 942525, 1054688, 1002654, 1101173, 1...   \n",
       "...                                                 ...   \n",
       "2489                                           [857571]   \n",
       "2490  [1082185, 1130763, 1122568, 1075637, 851865, 9...   \n",
       "2491  [13117489, 1793630, 2024753, 2031026, 1907825,...   \n",
       "2492                                          [1122428]   \n",
       "2493                                         [17295222]   \n",
       "\n",
       "                                          masked_basket  num_to_mask  \n",
       "0     [826249, 828525, 838396, 869622, 907014, 91745...            9  \n",
       "1     [823795, 862010, 960729, 973150, 1000870, 1060...            3  \n",
       "2                                             [1082185]            1  \n",
       "3                  [1516066, 1532784, 1625932, 1627393]            1  \n",
       "4     [822970, 831063, 837107, 846550, 847982, 84897...           10  \n",
       "...                                                 ...          ...  \n",
       "2489  [1008547, 1038985, 1042907, 1072009, 1126899, ...            1  \n",
       "2490  [852540, 865174, 901062, 945456, 948509, 95172...            6  \n",
       "2491  [1741748, 1754035, 1769503, 1772030, 1789655, ...           13  \n",
       "2492                                           [972191]            1  \n",
       "2493                  [49659, 106589, 114397, 17904923]            1  \n",
       "\n",
       "[2494 rows x 6 columns]"
      ]
     },
     "execution_count": 242,
     "metadata": {},
     "output_type": "execute_result"
    }
   ],
   "source": [
    "sample_df"
   ]
  },
  {
   "cell_type": "code",
   "execution_count": 243,
   "id": "5b8e8e61",
   "metadata": {},
   "outputs": [],
   "source": [
    "sample_df.to_csv('../data/dunnhumby/test_sample_to_predict_dunnhumby.csv', index = False)"
   ]
  }
 ],
 "metadata": {
  "kernelspec": {
   "display_name": "Python 3 (ipykernel)",
   "language": "python",
   "name": "python3"
  },
  "language_info": {
   "codemirror_mode": {
    "name": "ipython",
    "version": 3
   },
   "file_extension": ".py",
   "mimetype": "text/x-python",
   "name": "python",
   "nbconvert_exporter": "python",
   "pygments_lexer": "ipython3",
   "version": "3.11.7"
  }
 },
 "nbformat": 4,
 "nbformat_minor": 5
}
